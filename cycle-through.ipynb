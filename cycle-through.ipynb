{
 "cells": [
  {
   "cell_type": "code",
   "execution_count": 1,
   "metadata": {},
   "outputs": [
    {
     "name": "stdout",
     "output_type": "stream",
     "text": [
      "Green\n",
      "Yellow\n",
      "Red\n",
      "Green\n",
      "Yellow\n",
      "Red\n",
      "Green\n",
      "Yellow\n",
      "Red\n"
     ]
    },
    {
     "ename": "KeyboardInterrupt",
     "evalue": "",
     "output_type": "error",
     "traceback": [
      "\u001b[1;31m---------------------------------------------------------------------------\u001b[0m",
      "\u001b[1;31mKeyboardInterrupt\u001b[0m                         Traceback (most recent call last)",
      "Cell \u001b[1;32mIn[1], line 7\u001b[0m\n\u001b[0;32m      5\u001b[0m \u001b[39mfor\u001b[39;00m light, delay \u001b[39min\u001b[39;00m cycle(lights):\n\u001b[0;32m      6\u001b[0m     \u001b[39mprint\u001b[39m(light)\n\u001b[1;32m----> 7\u001b[0m     time\u001b[39m.\u001b[39;49msleep(delay)\n",
      "\u001b[1;31mKeyboardInterrupt\u001b[0m: "
     ]
    }
   ],
   "source": [
    "import time\n",
    "from itertools import cycle\n",
    "\n",
    "lights = [('Green', 5), ('Yellow', 2), ('Red', 5)]\n",
    "for light, delay in cycle(lights):\n",
    "    print(light)\n",
    "    time.sleep(delay)\n",
    "\n",
    "    "
   ]
  },
  {
   "cell_type": "code",
   "execution_count": 3,
   "metadata": {},
   "outputs": [
    {
     "name": "stdout",
     "output_type": "stream",
     "text": [
      "Green 5\n",
      "Yellow 2\n",
      "Red 5\n",
      "Green 5\n",
      "Yellow 2\n",
      "Red 5\n"
     ]
    },
    {
     "ename": "KeyboardInterrupt",
     "evalue": "",
     "output_type": "error",
     "traceback": [
      "\u001b[1;31m---------------------------------------------------------------------------\u001b[0m",
      "\u001b[1;31mKeyboardInterrupt\u001b[0m                         Traceback (most recent call last)",
      "Cell \u001b[1;32mIn[3], line 5\u001b[0m\n\u001b[0;32m      3\u001b[0m c, d \u001b[39m=\u001b[39m \u001b[39mnext\u001b[39m(colors)\n\u001b[0;32m      4\u001b[0m \u001b[39mprint\u001b[39m(c, d)\n\u001b[1;32m----> 5\u001b[0m time\u001b[39m.\u001b[39;49msleep(d)\n",
      "\u001b[1;31mKeyboardInterrupt\u001b[0m: "
     ]
    }
   ],
   "source": [
    "colors = cycle(lights)\n",
    "while True:\n",
    "    c, d = next(colors)\n",
    "    print(c, d)\n",
    "    time.sleep(d)\n",
    "\n"
   ]
  },
  {
   "cell_type": "code",
   "execution_count": null,
   "metadata": {},
   "outputs": [],
   "source": []
  }
 ],
 "metadata": {
  "kernelspec": {
   "display_name": "base",
   "language": "python",
   "name": "python3"
  },
  "language_info": {
   "codemirror_mode": {
    "name": "ipython",
    "version": 3
   },
   "file_extension": ".py",
   "mimetype": "text/x-python",
   "name": "python",
   "nbconvert_exporter": "python",
   "pygments_lexer": "ipython3",
   "version": "3.10.9"
  },
  "orig_nbformat": 4
 },
 "nbformat": 4,
 "nbformat_minor": 2
}
