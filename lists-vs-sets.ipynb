{
 "cells": [
  {
   "cell_type": "code",
   "execution_count": 1,
   "metadata": {},
   "outputs": [],
   "source": [
    "execution_times = []"
   ]
  },
  {
   "cell_type": "code",
   "execution_count": 2,
   "metadata": {},
   "outputs": [],
   "source": [
    "from timeit import timeit\n",
    "my_list = list(range(1000000))\n",
    "my_set = set(range(1000000))\n",
    "list_time = timeit(stmt='999999 in my_list', number=1000, globals=globals())\n",
    "set_time = timeit(stmt='999999 in my_set', number=1000, globals=globals())\n",
    "execution_times.append((list_time,set_time))\n"
   ]
  },
  {
   "cell_type": "code",
   "execution_count": 3,
   "metadata": {},
   "outputs": [
    {
     "data": {
      "text/plain": [
       "[(12.043479899992235, 6.690000009257346e-05)]"
      ]
     },
     "execution_count": 3,
     "metadata": {},
     "output_type": "execute_result"
    }
   ],
   "source": [
    "execution_times\n"
   ]
  },
  {
   "cell_type": "code",
   "execution_count": 13,
   "metadata": {},
   "outputs": [],
   "source": [
    "def timeit_lists_vs_sets(length, number=1000, pick=999999):\n",
    "    my_list = list(range(length))\n",
    "    my_set = set(range(length))\n",
    "    #pick = length - 1\n",
    "    list_time = timeit(stmt='999999 in my_list', number=1000, globals=globals())\n",
    "    set_time = timeit(stmt='999999 in my_set', number=1000, globals=globals())\n",
    "    return (list_time,set_time)"
   ]
  },
  {
   "cell_type": "code",
   "execution_count": 15,
   "metadata": {},
   "outputs": [
    {
     "name": "stdout",
     "output_type": "stream",
     "text": [
      "(10.029993700009072, 4.75000124424696e-05)\n",
      "(9.837617799988948, 4.6900007873773575e-05)\n",
      "(9.874752000003355, 4.650000482797623e-05)\n"
     ]
    }
   ],
   "source": [
    "for n in range(3):\n",
    "    res = timeit_lists_vs_sets(1000000)\n",
    "    print(res)"
   ]
  },
  {
   "cell_type": "code",
   "execution_count": null,
   "metadata": {},
   "outputs": [],
   "source": []
  }
 ],
 "metadata": {
  "kernelspec": {
   "display_name": "base",
   "language": "python",
   "name": "python3"
  },
  "language_info": {
   "codemirror_mode": {
    "name": "ipython",
    "version": 3
   },
   "file_extension": ".py",
   "mimetype": "text/x-python",
   "name": "python",
   "nbconvert_exporter": "python",
   "pygments_lexer": "ipython3",
   "version": "3.10.9"
  },
  "orig_nbformat": 4
 },
 "nbformat": 4,
 "nbformat_minor": 2
}
