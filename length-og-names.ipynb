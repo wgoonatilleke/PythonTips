{
 "cells": [
  {
   "cell_type": "code",
   "execution_count": 12,
   "metadata": {},
   "outputs": [],
   "source": [
    "def get_name_lengths(name_list):\n",
    "    return [len(i) for i in name_list]"
   ]
  },
  {
   "cell_type": "code",
   "execution_count": 13,
   "metadata": {},
   "outputs": [],
   "source": [
    "def get_name_length_dict(name_list):\n",
    "    return {k: len(k) for k in name_list}"
   ]
  },
  {
   "cell_type": "code",
   "execution_count": 14,
   "metadata": {},
   "outputs": [],
   "source": [
    "def main(name_list):\n",
    "    name_lengths = get_name_lengths(name_list)\n",
    "    name_length_dict = get_name_length_dict(name_list)\n",
    "    print(name_lengths)\n",
    "    print(name_length_dict)"
   ]
  },
  {
   "cell_type": "code",
   "execution_count": 15,
   "metadata": {},
   "outputs": [
    {
     "name": "stdout",
     "output_type": "stream",
     "text": [
      "[4, 6, 7, 6, 12]\n",
      "{'anna': 4, 'walter': 6, 'sampath': 7, 'andrew': 6, 'senevirathna': 12}\n"
     ]
    }
   ],
   "source": [
    "name_list = ['anna', 'walter', 'sampath', 'andrew', 'senevirathna']\n",
    "if __name__ == '__main__':\n",
    "    name_lengths = main(name_list)\n"
   ]
  }
 ],
 "metadata": {
  "kernelspec": {
   "display_name": "base",
   "language": "python",
   "name": "python3"
  },
  "language_info": {
   "codemirror_mode": {
    "name": "ipython",
    "version": 3
   },
   "file_extension": ".py",
   "mimetype": "text/x-python",
   "name": "python",
   "nbconvert_exporter": "python",
   "pygments_lexer": "ipython3",
   "version": "3.10.9"
  },
  "orig_nbformat": 4
 },
 "nbformat": 4,
 "nbformat_minor": 2
}
