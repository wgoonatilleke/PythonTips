{
 "cells": [
  {
   "cell_type": "code",
   "execution_count": 1,
   "metadata": {},
   "outputs": [
    {
     "name": "stdout",
     "output_type": "stream",
     "text": [
      "calculate square numbers\n",
      "calculate cube of numbers\n",
      "square: 4\n",
      "cube: 8\n",
      "square: 9\n",
      "cube: 27\n",
      "square: 64\n",
      "cube: 512\n",
      "square: 81\n",
      "cube: 729\n",
      "done in :  0.9049091339111328\n",
      "Hah... I am done with all my work now!\n"
     ]
    }
   ],
   "source": [
    "import time\n",
    "import threading\n",
    "\n",
    "def calc_square(numbers):\n",
    "    print(\"calculate square numbers\")\n",
    "    for n in numbers:\n",
    "        time.sleep(0.2)\n",
    "        print('square:', n*n)\n",
    "\n",
    "def calc_cube(numbers):\n",
    "    print(\"calculate cube of numbers\")\n",
    "    for n in numbers:\n",
    "        time.sleep(0.2)\n",
    "        print('cube:', n*n*n)\n",
    "\n",
    "arr = [2,3,8,9]\n",
    "\n",
    "t = time.time()\n",
    "t1 = threading.Thread(target=calc_square, args=(arr,))\n",
    "t2 = threading.Thread(target=calc_cube, args=(arr,))\n",
    "t1.start()\n",
    "t2.start()\n",
    "t1.join()\n",
    "t2.join()\n",
    "print(\"done in : \", time.time()-t)\n",
    "print(\"Hah... I am done with all my work now!\")\n"
   ]
  },
  {
   "cell_type": "code",
   "execution_count": 2,
   "metadata": {},
   "outputs": [],
   "source": [
    "def sleep_me(i):\n",
    "    print(\"thread %d sleeps for 5 seconds\" % i)\n",
    "    time.sleep(5)\n",
    "    print(\"thread %d woke up\" % i)"
   ]
  },
  {
   "cell_type": "code",
   "execution_count": 5,
   "metadata": {},
   "outputs": [
    {
     "name": "stdout",
     "output_type": "stream",
     "text": [
      "thread 1 sleeps for 5 seconds\n",
      "thread 1 woke up\n"
     ]
    }
   ],
   "source": [
    "sleep_me(1)"
   ]
  },
  {
   "cell_type": "code",
   "execution_count": 6,
   "metadata": {},
   "outputs": [
    {
     "name": "stdout",
     "output_type": "stream",
     "text": [
      "thread 1 sleeps for 5 seconds\n",
      "thread 2 sleeps for 5 seconds\n",
      "thread 2 woke up\n",
      "thread 1 woke up\n"
     ]
    }
   ],
   "source": [
    "t1 = threading.Thread(target=sleep_me, args=(1,))\n",
    "t1.start()\n",
    "t2 = threading.Thread(target=sleep_me, args=(2,))\n",
    "t2.start()\n",
    "t1.join()\n",
    "t2.join()\n",
    "\n"
   ]
  },
  {
   "cell_type": "code",
   "execution_count": null,
   "metadata": {},
   "outputs": [],
   "source": []
  }
 ],
 "metadata": {
  "kernelspec": {
   "display_name": "base",
   "language": "python",
   "name": "python3"
  },
  "language_info": {
   "codemirror_mode": {
    "name": "ipython",
    "version": 3
   },
   "file_extension": ".py",
   "mimetype": "text/x-python",
   "name": "python",
   "nbconvert_exporter": "python",
   "pygments_lexer": "ipython3",
   "version": "3.10.9"
  },
  "orig_nbformat": 4
 },
 "nbformat": 4,
 "nbformat_minor": 2
}
