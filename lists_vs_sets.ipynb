{
 "cells": [
  {
   "cell_type": "code",
   "execution_count": 11,
   "metadata": {},
   "outputs": [],
   "source": [
    "def time_it(iterble_type):\n",
    "    # given a list or a set and see how long it takes to retrive the last element\n",
    "    import time\n",
    "    if iterble_type == 'list':\n",
    "        my_list = list(range(10000000))\n",
    "        start = time.time()\n",
    "        stmt = 9999999 in my_list\n",
    "        end = time.time()\n",
    "        return end - start\n",
    "    elif iterble_type == 'set':\n",
    "        my_set = set(range(10000000))\n",
    "        start = time.time()\n",
    "        stmt = 9999999 in my_set\n",
    "        end = time.time()\n",
    "        return end - start\n",
    "\n"
   ]
  },
  {
   "cell_type": "code",
   "execution_count": 12,
   "metadata": {},
   "outputs": [
    {
     "data": {
      "text/plain": [
       "0.0961308479309082"
      ]
     },
     "execution_count": 12,
     "metadata": {},
     "output_type": "execute_result"
    }
   ],
   "source": [
    "time_it('list')"
   ]
  },
  {
   "cell_type": "code",
   "execution_count": 13,
   "metadata": {},
   "outputs": [
    {
     "data": {
      "text/plain": [
       "0.0"
      ]
     },
     "execution_count": 13,
     "metadata": {},
     "output_type": "execute_result"
    }
   ],
   "source": [
    "time_it('set')"
   ]
  },
  {
   "cell_type": "code",
   "execution_count": 21,
   "metadata": {},
   "outputs": [],
   "source": [
    "def time_it1(iterble_type):\n",
    "    # given a list or a set and see how long it takes to retrive the last element using timeit  module\n",
    "    from timeit import timeit\n",
    "    if iterble_type == 'list':\n",
    "        my_list = list(range(10000000))     \n",
    "        st =  9999999 in my_list\n",
    "        return  timeit(stmt=st, number=1000000)\n",
    "    \n",
    "\n"
   ]
  },
  {
   "cell_type": "code",
   "execution_count": 22,
   "metadata": {},
   "outputs": [
    {
     "ename": "ValueError",
     "evalue": "stmt is neither a string nor callable",
     "output_type": "error",
     "traceback": [
      "\u001b[1;31m---------------------------------------------------------------------------\u001b[0m",
      "\u001b[1;31mValueError\u001b[0m                                Traceback (most recent call last)",
      "Cell \u001b[1;32mIn[22], line 1\u001b[0m\n\u001b[1;32m----> 1\u001b[0m time_it1(\u001b[39m'\u001b[39;49m\u001b[39mlist\u001b[39;49m\u001b[39m'\u001b[39;49m)\n",
      "Cell \u001b[1;32mIn[21], line 7\u001b[0m, in \u001b[0;36mtime_it1\u001b[1;34m(iterble_type)\u001b[0m\n\u001b[0;32m      5\u001b[0m my_list \u001b[39m=\u001b[39m \u001b[39mlist\u001b[39m(\u001b[39mrange\u001b[39m(\u001b[39m10000000\u001b[39m))     \n\u001b[0;32m      6\u001b[0m st \u001b[39m=\u001b[39m  \u001b[39m9999999\u001b[39m \u001b[39min\u001b[39;00m my_list\n\u001b[1;32m----> 7\u001b[0m \u001b[39mreturn\u001b[39;00m  timeit(stmt\u001b[39m=\u001b[39;49mst, number\u001b[39m=\u001b[39;49m\u001b[39m1000000\u001b[39;49m)\n",
      "File \u001b[1;32mc:\\Users\\waltergo\\AppData\\Local\\anaconda3\\lib\\timeit.py:234\u001b[0m, in \u001b[0;36mtimeit\u001b[1;34m(stmt, setup, timer, number, globals)\u001b[0m\n\u001b[0;32m    231\u001b[0m \u001b[39mdef\u001b[39;00m \u001b[39mtimeit\u001b[39m(stmt\u001b[39m=\u001b[39m\u001b[39m\"\u001b[39m\u001b[39mpass\u001b[39m\u001b[39m\"\u001b[39m, setup\u001b[39m=\u001b[39m\u001b[39m\"\u001b[39m\u001b[39mpass\u001b[39m\u001b[39m\"\u001b[39m, timer\u001b[39m=\u001b[39mdefault_timer,\n\u001b[0;32m    232\u001b[0m            number\u001b[39m=\u001b[39mdefault_number, \u001b[39mglobals\u001b[39m\u001b[39m=\u001b[39m\u001b[39mNone\u001b[39;00m):\n\u001b[0;32m    233\u001b[0m     \u001b[39m\"\"\"Convenience function to create Timer object and call timeit method.\"\"\"\u001b[39;00m\n\u001b[1;32m--> 234\u001b[0m     \u001b[39mreturn\u001b[39;00m Timer(stmt, setup, timer, \u001b[39mglobals\u001b[39;49m)\u001b[39m.\u001b[39mtimeit(number)\n",
      "File \u001b[1;32mc:\\Users\\waltergo\\AppData\\Local\\anaconda3\\lib\\timeit.py:130\u001b[0m, in \u001b[0;36mTimer.__init__\u001b[1;34m(self, stmt, setup, timer, globals)\u001b[0m\n\u001b[0;32m    128\u001b[0m     stmt \u001b[39m=\u001b[39m \u001b[39m'\u001b[39m\u001b[39m_stmt()\u001b[39m\u001b[39m'\u001b[39m\n\u001b[0;32m    129\u001b[0m \u001b[39melse\u001b[39;00m:\n\u001b[1;32m--> 130\u001b[0m     \u001b[39mraise\u001b[39;00m \u001b[39mValueError\u001b[39;00m(\u001b[39m\"\u001b[39m\u001b[39mstmt is neither a string nor callable\u001b[39m\u001b[39m\"\u001b[39m)\n\u001b[0;32m    131\u001b[0m src \u001b[39m=\u001b[39m template\u001b[39m.\u001b[39mformat(stmt\u001b[39m=\u001b[39mstmt, setup\u001b[39m=\u001b[39msetup, init\u001b[39m=\u001b[39minit)\n\u001b[0;32m    132\u001b[0m \u001b[39mself\u001b[39m\u001b[39m.\u001b[39msrc \u001b[39m=\u001b[39m src  \u001b[39m# Save for traceback display\u001b[39;00m\n",
      "\u001b[1;31mValueError\u001b[0m: stmt is neither a string nor callable"
     ]
    }
   ],
   "source": [
    "time_it1('list')"
   ]
  },
  {
   "cell_type": "code",
   "execution_count": null,
   "metadata": {},
   "outputs": [],
   "source": []
  }
 ],
 "metadata": {
  "kernelspec": {
   "display_name": "base",
   "language": "python",
   "name": "python3"
  },
  "language_info": {
   "codemirror_mode": {
    "name": "ipython",
    "version": 3
   },
   "file_extension": ".py",
   "mimetype": "text/x-python",
   "name": "python",
   "nbconvert_exporter": "python",
   "pygments_lexer": "ipython3",
   "version": "3.10.9"
  },
  "orig_nbformat": 4
 },
 "nbformat": 4,
 "nbformat_minor": 2
}
