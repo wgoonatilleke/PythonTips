{
 "cells": [
  {
   "cell_type": "code",
   "execution_count": 11,
   "metadata": {},
   "outputs": [],
   "source": [
    "def time_it(iterble_type):\n",
    "    # given a list or a set and see how long it takes to retrive the last element\n",
    "    import time\n",
    "    if iterble_type == 'list':\n",
    "        my_list = list(range(10000000))\n",
    "        start = time.time()\n",
    "        stmt = 9999999 in my_list\n",
    "        end = time.time()\n",
    "        return end - start\n",
    "    elif iterble_type == 'set':\n",
    "        my_set = set(range(10000000))\n",
    "        start = time.time()\n",
    "        stmt = 9999999 in my_set\n",
    "        end = time.time()\n",
    "        return end - start\n",
    "\n"
   ]
  },
  {
   "cell_type": "code",
   "execution_count": 12,
   "metadata": {},
   "outputs": [
    {
     "data": {
      "text/plain": [
       "0.0961308479309082"
      ]
     },
     "execution_count": 12,
     "metadata": {},
     "output_type": "execute_result"
    }
   ],
   "source": [
    "time_it('list')"
   ]
  },
  {
   "cell_type": "code",
   "execution_count": 13,
   "metadata": {},
   "outputs": [
    {
     "data": {
      "text/plain": [
       "0.0"
      ]
     },
     "execution_count": 13,
     "metadata": {},
     "output_type": "execute_result"
    }
   ],
   "source": [
    "time_it('set')"
   ]
  },
  {
   "cell_type": "code",
   "execution_count": 27,
   "metadata": {},
   "outputs": [],
   "source": [
    "def time_it1(iterble_type):\n",
    "    # given a list or a set and see how long it takes to retrive the last element using timeit  module\n",
    "    from timeit import timeit\n",
    "    my_list = list(range(10000000))\n",
    "    if iterble_type == 'list':\n",
    "        #my_list = list(range(10000000))     \n",
    "        st =  '9999999 in my_list'\n",
    "        list_time =   timeit(stmt=st, number=1000000, globals=globals())\n",
    "    \n",
    "\n"
   ]
  },
  {
   "cell_type": "code",
   "execution_count": 6,
   "metadata": {},
   "outputs": [],
   "source": [
    "from timeit import timeit\n",
    "my_list = list(range(1000000))\n",
    "list_time = timeit(stmt='999999 in my_list', number=1000, globals=globals())"
   ]
  },
  {
   "cell_type": "code",
   "execution_count": 7,
   "metadata": {},
   "outputs": [],
   "source": [
    "from timeit import timeit\n",
    "my_set = set(range(1000000))\n",
    "set_time = timeit(stmt='999999 in my_set', number=1000, globals=globals())"
   ]
  },
  {
   "cell_type": "code",
   "execution_count": 8,
   "metadata": {},
   "outputs": [
    {
     "data": {
      "text/plain": [
       "196085.7959281096"
      ]
     },
     "execution_count": 8,
     "metadata": {},
     "output_type": "execute_result"
    }
   ],
   "source": [
    "list_time/set_time"
   ]
  },
  {
   "cell_type": "code",
   "execution_count": null,
   "metadata": {},
   "outputs": [],
   "source": []
  }
 ],
 "metadata": {
  "kernelspec": {
   "display_name": "base",
   "language": "python",
   "name": "python3"
  },
  "language_info": {
   "codemirror_mode": {
    "name": "ipython",
    "version": 3
   },
   "file_extension": ".py",
   "mimetype": "text/x-python",
   "name": "python",
   "nbconvert_exporter": "python",
   "pygments_lexer": "ipython3",
   "version": "3.10.9"
  },
  "orig_nbformat": 4
 },
 "nbformat": 4,
 "nbformat_minor": 2
}
